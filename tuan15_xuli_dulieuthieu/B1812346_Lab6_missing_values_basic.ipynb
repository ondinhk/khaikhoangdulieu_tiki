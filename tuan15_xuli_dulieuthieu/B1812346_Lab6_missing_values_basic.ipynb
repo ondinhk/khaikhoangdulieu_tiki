{
  "nbformat": 4,
  "nbformat_minor": 0,
  "metadata": {
    "colab": {
      "name": "B1812346-Lab6-missing-values-basic.ipynb",
      "provenance": [],
      "collapsed_sections": []
    },
    "kernelspec": {
      "name": "python3",
      "display_name": "Python 3"
    },
    "language_info": {
      "name": "python"
    }
  },
  "cells": [
    {
      "cell_type": "code",
      "metadata": {
        "id": "WVnffqSGmeKv",
        "colab": {
          "base_uri": "https://localhost:8080/"
        },
        "outputId": "2755a63f-6c5d-4343-ad23-a00880a56ce9"
      },
      "source": [
        "# Ôn Đình Khang\n",
        "# B1812346\n",
        "\n",
        "import pandas as pd\n",
        "import numpy as np \n",
        "\n",
        "df = pd.read_excel(\"https://github.com/ltdaovn/dataset/blob/master/student.xlsx?raw=true\", index_col='id')\n",
        "print(df)"
      ],
      "execution_count": 12,
      "outputs": [
        {
          "output_type": "stream",
          "name": "stdout",
          "text": [
            "                   name class1  mark     sex\n",
            "id                                          \n",
            "1.0      Angelina Jolie   Four  75.0  female\n",
            "2.0   Cristiano Ronaldo  Three  85.0    male\n",
            "NaN           John Wick  Three  55.0    male\n",
            "4.0           Lady Gaga   Four  60.0  female\n",
            "NaN          Emma Stone   Four  60.0  female\n",
            "6.0             Alex Jo   Four  55.0     NaN\n",
            "7.0        Lionel Messi   Five  78.0    male\n",
            "NaN                 NaN    NaN   NaN     NaN\n",
            "9.0       Thierry Henry    Six  78.0    male\n",
            "10.0                NaN   Four  55.0  female\n",
            "11.0   Callie Hernandez    Six   NaN  female\n",
            "12.0      Jessica Rothe    Six  94.0  female\n",
            "13.0                Ron    NaN  55.0     NaN\n",
            "14.0               King    NaN   NaN     NaN\n"
          ]
        }
      ]
    },
    {
      "cell_type": "code",
      "metadata": {
        "id": "PNGDwouLm-3J",
        "colab": {
          "base_uri": "https://localhost:8080/"
        },
        "outputId": "94d05798-7d79-4058-f75c-fd1f602fec0d"
      },
      "source": [
        "# Xóa các hàng có bất kỳ giá trị nào bị rỗng\n",
        "new_df = df.dropna(how='any')\n",
        "print(new_df)"
      ],
      "execution_count": 13,
      "outputs": [
        {
          "output_type": "stream",
          "name": "stdout",
          "text": [
            "                   name class1  mark     sex\n",
            "id                                          \n",
            "1.0      Angelina Jolie   Four  75.0  female\n",
            "2.0   Cristiano Ronaldo  Three  85.0    male\n",
            "NaN           John Wick  Three  55.0    male\n",
            "4.0           Lady Gaga   Four  60.0  female\n",
            "NaN          Emma Stone   Four  60.0  female\n",
            "7.0        Lionel Messi   Five  78.0    male\n",
            "9.0       Thierry Henry    Six  78.0    male\n",
            "12.0      Jessica Rothe    Six  94.0  female\n"
          ]
        }
      ]
    },
    {
      "cell_type": "code",
      "metadata": {
        "id": "yiRKnJrSpGeW",
        "colab": {
          "base_uri": "https://localhost:8080/"
        },
        "outputId": "a3385d77-4ff9-45e6-fb92-1adcad9e0e46"
      },
      "source": [
        "# Xóa các hàng có tất cả giá trị đều bị rỗng\n",
        "new_df = df.dropna(how='all')\n",
        "print(new_df)"
      ],
      "execution_count": 18,
      "outputs": [
        {
          "output_type": "stream",
          "name": "stdout",
          "text": [
            "                   name class1  mark     sex\n",
            "id                                          \n",
            "1.0      Angelina Jolie   Four  75.0  female\n",
            "2.0   Cristiano Ronaldo  Three  85.0    male\n",
            "NaN           John Wick  Three  55.0    male\n",
            "4.0           Lady Gaga   Four  60.0  female\n",
            "NaN          Emma Stone   Four  60.0  female\n",
            "6.0             Alex Jo   Four  55.0     NaN\n",
            "7.0        Lionel Messi   Five  78.0    male\n",
            "9.0       Thierry Henry    Six  78.0    male\n",
            "10.0                NaN   Four  55.0  female\n",
            "11.0   Callie Hernandez    Six   NaN  female\n",
            "12.0      Jessica Rothe    Six  94.0  female\n",
            "13.0                Ron    NaN  55.0     NaN\n",
            "14.0               King    NaN   NaN     NaN\n"
          ]
        }
      ]
    },
    {
      "cell_type": "code",
      "metadata": {
        "id": "f-IK9QYsqA6x",
        "colab": {
          "base_uri": "https://localhost:8080/"
        },
        "outputId": "94582936-ac0a-4456-b40c-f4fafd7f03e6"
      },
      "source": [
        "# Xóa các cột có bất kỳ giá trị nào bị rỗng\n",
        "new_df = df.dropna(how='any', axis='rows')\n",
        "print(new_df)"
      ],
      "execution_count": 19,
      "outputs": [
        {
          "output_type": "stream",
          "name": "stdout",
          "text": [
            "                   name class1  mark     sex\n",
            "id                                          \n",
            "1.0      Angelina Jolie   Four  75.0  female\n",
            "2.0   Cristiano Ronaldo  Three  85.0    male\n",
            "NaN           John Wick  Three  55.0    male\n",
            "4.0           Lady Gaga   Four  60.0  female\n",
            "NaN          Emma Stone   Four  60.0  female\n",
            "7.0        Lionel Messi   Five  78.0    male\n",
            "9.0       Thierry Henry    Six  78.0    male\n",
            "12.0      Jessica Rothe    Six  94.0  female\n"
          ]
        }
      ]
    },
    {
      "cell_type": "code",
      "metadata": {
        "id": "jB9QTiwMovfs",
        "colab": {
          "base_uri": "https://localhost:8080/"
        },
        "outputId": "d288e723-36ef-4f0a-9f32-34bc47cf573b"
      },
      "source": [
        "# Xóa các cột có tất cả giá trị đều bị rỗng\n",
        "new_df = df.dropna(how='all', axis='rows')\n",
        "print(new_df)"
      ],
      "execution_count": 20,
      "outputs": [
        {
          "output_type": "stream",
          "name": "stdout",
          "text": [
            "                   name class1  mark     sex\n",
            "id                                          \n",
            "1.0      Angelina Jolie   Four  75.0  female\n",
            "2.0   Cristiano Ronaldo  Three  85.0    male\n",
            "NaN           John Wick  Three  55.0    male\n",
            "4.0           Lady Gaga   Four  60.0  female\n",
            "NaN          Emma Stone   Four  60.0  female\n",
            "6.0             Alex Jo   Four  55.0     NaN\n",
            "7.0        Lionel Messi   Five  78.0    male\n",
            "9.0       Thierry Henry    Six  78.0    male\n",
            "10.0                NaN   Four  55.0  female\n",
            "11.0   Callie Hernandez    Six   NaN  female\n",
            "12.0      Jessica Rothe    Six  94.0  female\n",
            "13.0                Ron    NaN  55.0     NaN\n",
            "14.0               King    NaN   NaN     NaN\n"
          ]
        }
      ]
    },
    {
      "cell_type": "code",
      "metadata": {
        "id": "iR8JSF6AqvpC",
        "colab": {
          "base_uri": "https://localhost:8080/"
        },
        "outputId": "7c793c3d-dd57-4929-b26d-928f8b7717e4"
      },
      "source": [
        "# Chỉ giữ lại các hàng có từ 2 dữ liệu hợp lệ trở lên\n",
        "new_df = df.dropna(thresh=2)\n",
        "print(new_df)"
      ],
      "execution_count": 21,
      "outputs": [
        {
          "output_type": "stream",
          "name": "stdout",
          "text": [
            "                   name class1  mark     sex\n",
            "id                                          \n",
            "1.0      Angelina Jolie   Four  75.0  female\n",
            "2.0   Cristiano Ronaldo  Three  85.0    male\n",
            "NaN           John Wick  Three  55.0    male\n",
            "4.0           Lady Gaga   Four  60.0  female\n",
            "NaN          Emma Stone   Four  60.0  female\n",
            "6.0             Alex Jo   Four  55.0     NaN\n",
            "7.0        Lionel Messi   Five  78.0    male\n",
            "9.0       Thierry Henry    Six  78.0    male\n",
            "10.0                NaN   Four  55.0  female\n",
            "11.0   Callie Hernandez    Six   NaN  female\n",
            "12.0      Jessica Rothe    Six  94.0  female\n",
            "13.0                Ron    NaN  55.0     NaN\n"
          ]
        }
      ]
    },
    {
      "cell_type": "code",
      "metadata": {
        "id": "a_gZnDDiu4uZ",
        "colab": {
          "base_uri": "https://localhost:8080/"
        },
        "outputId": "32cdc5df-7f02-44ea-fdff-225657e0abdb"
      },
      "source": [
        "# Chỉ giữ lại các hàng có từ 3 dữ liệu hợp lệ trở lên\n",
        "new_df = df.dropna(thresh=3)\n",
        "print(new_df)"
      ],
      "execution_count": 22,
      "outputs": [
        {
          "output_type": "stream",
          "name": "stdout",
          "text": [
            "                   name class1  mark     sex\n",
            "id                                          \n",
            "1.0      Angelina Jolie   Four  75.0  female\n",
            "2.0   Cristiano Ronaldo  Three  85.0    male\n",
            "NaN           John Wick  Three  55.0    male\n",
            "4.0           Lady Gaga   Four  60.0  female\n",
            "NaN          Emma Stone   Four  60.0  female\n",
            "6.0             Alex Jo   Four  55.0     NaN\n",
            "7.0        Lionel Messi   Five  78.0    male\n",
            "9.0       Thierry Henry    Six  78.0    male\n",
            "10.0                NaN   Four  55.0  female\n",
            "11.0   Callie Hernandez    Six   NaN  female\n",
            "12.0      Jessica Rothe    Six  94.0  female\n"
          ]
        }
      ]
    },
    {
      "cell_type": "code",
      "metadata": {
        "id": "Aq3qvSf3vwsu",
        "colab": {
          "base_uri": "https://localhost:8080/"
        },
        "outputId": "1c5a78ab-ae97-4a28-a0d9-4767a618c01e"
      },
      "source": [
        "# Chỉ giữ lại các cột có từ 11 dữ liệu hợp lệ\n",
        "new_df = df.dropna(thresh=11, axis='columns') \n",
        "print(new_df)\n"
      ],
      "execution_count": 25,
      "outputs": [
        {
          "output_type": "stream",
          "name": "stdout",
          "text": [
            "                   name class1  mark\n",
            "id                                  \n",
            "1.0      Angelina Jolie   Four  75.0\n",
            "2.0   Cristiano Ronaldo  Three  85.0\n",
            "NaN           John Wick  Three  55.0\n",
            "4.0           Lady Gaga   Four  60.0\n",
            "NaN          Emma Stone   Four  60.0\n",
            "6.0             Alex Jo   Four  55.0\n",
            "7.0        Lionel Messi   Five  78.0\n",
            "NaN                 NaN    NaN   NaN\n",
            "9.0       Thierry Henry    Six  78.0\n",
            "10.0                NaN   Four  55.0\n",
            "11.0   Callie Hernandez    Six   NaN\n",
            "12.0      Jessica Rothe    Six  94.0\n",
            "13.0                Ron    NaN  55.0\n",
            "14.0               King    NaN   NaN\n"
          ]
        }
      ]
    },
    {
      "cell_type": "code",
      "metadata": {
        "id": "muuL2LPs1uuT",
        "colab": {
          "base_uri": "https://localhost:8080/"
        },
        "outputId": "d94f4ae2-301e-43aa-e636-f506f569569f"
      },
      "source": [
        "# Chỉ giữ lại các hàng có 70% dữ liệu hợp lệ trở lên\n",
        "new_df = df.dropna(how='any',axis=0,thresh=df.shape[1]*0.7)\n",
        "print(new_df)"
      ],
      "execution_count": 26,
      "outputs": [
        {
          "output_type": "stream",
          "name": "stdout",
          "text": [
            "                   name class1  mark     sex\n",
            "id                                          \n",
            "1.0      Angelina Jolie   Four  75.0  female\n",
            "2.0   Cristiano Ronaldo  Three  85.0    male\n",
            "NaN           John Wick  Three  55.0    male\n",
            "4.0           Lady Gaga   Four  60.0  female\n",
            "NaN          Emma Stone   Four  60.0  female\n",
            "6.0             Alex Jo   Four  55.0     NaN\n",
            "7.0        Lionel Messi   Five  78.0    male\n",
            "9.0       Thierry Henry    Six  78.0    male\n",
            "10.0                NaN   Four  55.0  female\n",
            "11.0   Callie Hernandez    Six   NaN  female\n",
            "12.0      Jessica Rothe    Six  94.0  female\n"
          ]
        }
      ]
    },
    {
      "cell_type": "code",
      "metadata": {
        "id": "iCn1zCkX2FW9",
        "colab": {
          "base_uri": "https://localhost:8080/"
        },
        "outputId": "7f6b6891-f82f-404e-dda4-43a8adce8fd4"
      },
      "source": [
        "#Chỉ giữ lại các cột có 80% dữ liệu hợp lệ trở lên\n",
        "new_df = df.dropna(how='any',axis='columns',thresh=df.shape[1]*0.8)\n",
        "print(new_df)"
      ],
      "execution_count": 27,
      "outputs": [
        {
          "output_type": "stream",
          "name": "stdout",
          "text": [
            "                   name class1  mark     sex\n",
            "id                                          \n",
            "1.0      Angelina Jolie   Four  75.0  female\n",
            "2.0   Cristiano Ronaldo  Three  85.0    male\n",
            "NaN           John Wick  Three  55.0    male\n",
            "4.0           Lady Gaga   Four  60.0  female\n",
            "NaN          Emma Stone   Four  60.0  female\n",
            "6.0             Alex Jo   Four  55.0     NaN\n",
            "7.0        Lionel Messi   Five  78.0    male\n",
            "NaN                 NaN    NaN   NaN     NaN\n",
            "9.0       Thierry Henry    Six  78.0    male\n",
            "10.0                NaN   Four  55.0  female\n",
            "11.0   Callie Hernandez    Six   NaN  female\n",
            "12.0      Jessica Rothe    Six  94.0  female\n",
            "13.0                Ron    NaN  55.0     NaN\n",
            "14.0               King    NaN   NaN     NaN\n"
          ]
        }
      ]
    }
  ]
}